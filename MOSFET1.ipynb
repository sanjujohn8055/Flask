import tensorflow as tf, numpy as np, matplotlib.pyplot as plt
from nn import *
import pandas as pd



